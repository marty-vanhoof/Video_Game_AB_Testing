{
 "cells": [
  {
   "cell_type": "markdown",
   "metadata": {},
   "source": [
    "# Video Game AB Testing\n",
    "**by Marty VanHoof**\n",
    "\n",
    "## Contents\n",
    "* [Introduction](#intro)\n",
    "\n",
    "* [The dataset](#dataset)\n",
    "* [Comparison of 1-day retention rates](#compare_rates) \n",
    "* [Is the difference statistically significant?](#one_day_significant)\n",
    "* [Comparison of 7-day retention rates](#compare_7rates)\n",
    "* [Conclusion](#conc)\n",
    "\n",
    "\n",
    "<a id=\"intro\"></a>\n",
    "## Introduction\n",
    "\n",
    "This report details the analysis of the results of an AB test run on the game [Cookie Cats](https://www.facebook.com/cookiecatsgame/).  In the game, a player must connect tiles of the same colour to clear the board and win the level.  At various points in the game,  the player will occasionally encounter gates that make them wait for a span of time or make an in-app purchase to progress.  These gates help to drive in-app purchases.  They also force the player to take a break, which would hopefully prolong their enjoyment of the game.\n",
    "\n",
    "So an important question is:  where should the gate be placed in order to maximize player enjoyment and/or player retention? Initially, the first gate was placed at level 30, but then management decided to run an experiment to see if moving the first gate from level 30 to level 40 had an impact on player retention.  What follows is a detailed analysis of the data gathered from that experiment.   "
   ]
  },
  {
   "cell_type": "code",
   "execution_count": 1,
   "metadata": {
    "collapsed": true
   },
   "outputs": [],
   "source": [
    "import pandas as pd\n",
    "import numpy as np\n",
    "import matplotlib.pyplot as plt\n",
    "plt.style.use('ggplot')\n",
    "from IPython.display import display\n",
    "#import seaborn\n",
    "\n",
    "%matplotlib inline"
   ]
  },
  {
   "cell_type": "markdown",
   "metadata": {},
   "source": [
    "<a id=\"dataset\"></a>\n",
    "## The dataset\n",
    "\n",
    "The data is from 90,189 players who installed the game while the while the AB-test was in progress.  The variables are:\n",
    "\n",
    "* `userid` - a unique number that identifies each player.\n",
    "* `version` - whether the player was put in the control group (gate_30) or the treatment group (gate_40).\n",
    "* `sum_gamerounds` - the number of game rounds played by the player during the first 14 days after install.\n",
    "* `retention_1` - did the player come back and play **1 day** after installing?\n",
    "* `retention_7` - did the player come back and play **7 days** after installing?\n",
    "\n",
    "\n",
    "Players were randomly assigned to either gate_30 or gate_40."
   ]
  },
  {
   "cell_type": "code",
   "execution_count": 2,
   "metadata": {},
   "outputs": [
    {
     "data": {
      "text/html": [
       "<div>\n",
       "<style>\n",
       "    .dataframe thead tr:only-child th {\n",
       "        text-align: right;\n",
       "    }\n",
       "\n",
       "    .dataframe thead th {\n",
       "        text-align: left;\n",
       "    }\n",
       "\n",
       "    .dataframe tbody tr th {\n",
       "        vertical-align: top;\n",
       "    }\n",
       "</style>\n",
       "<table border=\"1\" class=\"dataframe\">\n",
       "  <thead>\n",
       "    <tr style=\"text-align: right;\">\n",
       "      <th></th>\n",
       "      <th>userid</th>\n",
       "      <th>version</th>\n",
       "      <th>sum_gamerounds</th>\n",
       "      <th>retention_1</th>\n",
       "      <th>retention_7</th>\n",
       "    </tr>\n",
       "  </thead>\n",
       "  <tbody>\n",
       "    <tr>\n",
       "      <th>0</th>\n",
       "      <td>116</td>\n",
       "      <td>gate_30</td>\n",
       "      <td>3</td>\n",
       "      <td>False</td>\n",
       "      <td>False</td>\n",
       "    </tr>\n",
       "    <tr>\n",
       "      <th>1</th>\n",
       "      <td>337</td>\n",
       "      <td>gate_30</td>\n",
       "      <td>38</td>\n",
       "      <td>True</td>\n",
       "      <td>False</td>\n",
       "    </tr>\n",
       "    <tr>\n",
       "      <th>2</th>\n",
       "      <td>377</td>\n",
       "      <td>gate_40</td>\n",
       "      <td>165</td>\n",
       "      <td>True</td>\n",
       "      <td>False</td>\n",
       "    </tr>\n",
       "    <tr>\n",
       "      <th>3</th>\n",
       "      <td>483</td>\n",
       "      <td>gate_40</td>\n",
       "      <td>1</td>\n",
       "      <td>False</td>\n",
       "      <td>False</td>\n",
       "    </tr>\n",
       "    <tr>\n",
       "      <th>4</th>\n",
       "      <td>488</td>\n",
       "      <td>gate_40</td>\n",
       "      <td>179</td>\n",
       "      <td>True</td>\n",
       "      <td>True</td>\n",
       "    </tr>\n",
       "  </tbody>\n",
       "</table>\n",
       "</div>"
      ],
      "text/plain": [
       "   userid  version  sum_gamerounds  retention_1  retention_7\n",
       "0     116  gate_30               3        False        False\n",
       "1     337  gate_30              38         True        False\n",
       "2     377  gate_40             165         True        False\n",
       "3     483  gate_40               1        False        False\n",
       "4     488  gate_40             179         True         True"
      ]
     },
     "metadata": {},
     "output_type": "display_data"
    },
    {
     "name": "stdout",
     "output_type": "stream",
     "text": [
      "Number of players in control group (gate_30): 44700\n",
      "Number of players in treatment group (gate_40): 45489\n"
     ]
    }
   ],
   "source": [
    "df = pd.read_csv('cookie_cats_data.csv')\n",
    "\n",
    "display(df.head())\n",
    "control = df.query('version == \"gate_30\"')\n",
    "treatment = df.query('version == \"gate_40\"')\n",
    "print('Number of players in control group (gate_30):', control.shape[0])\n",
    "print('Number of players in treatment group (gate_40):', treatment.shape[0])"
   ]
  },
  {
   "cell_type": "markdown",
   "metadata": {},
   "source": [
    "### Distribution of gamerounds played\n",
    "\n",
    "The plot below shows the distribution of `sum_gamerounds` for the players that played from 0 to 150 gamerounds."
   ]
  },
  {
   "cell_type": "code",
   "execution_count": 3,
   "metadata": {
    "scrolled": false
   },
   "outputs": [
    {
     "data": {
      "image/png": "[encoded data removed]",
      "text/plain": [
       "<matplotlib.figure.Figure at 0x10cede0f0>"
      ]
     },
     "metadata": {},
     "output_type": "display_data"
    }
   ],
   "source": [
    "count_by_gamerounds = df.groupby('sum_gamerounds')['userid'].count()\n",
    "\n",
    "fig, ax = plt.subplots(figsize=(8,5))\n",
    "count_by_gamerounds.head(150).plot(color='blue')\n",
    "ax.set_xlabel('number of gamerounds played')\n",
    "ax.set_ylabel('count')\n",
    "ax.set_xlim(-2, 150);"
   ]
  },
  {
   "cell_type": "markdown",
   "metadata": {},
   "source": [
    "<a id=\"compare_rates\"></a>\n",
    "## Comparison of 1-day retention rates\n",
    "\n",
    "A common metric in the video game industry for game engagement is **1-day retention rate**.  This is the proportion of players who come back and play the game one day after they have installed it.  Clearly, a video game company would like to increase this retention rate as much as possible so that they can build a larger player base for their games.  The goal of this experiment is to see if moving the first gate from level 30 to level 40 has an impact on player retention, so we are really interested in comparing the retention rates between the treatment and control group.   \n",
    "\n",
    "### The overall 1-day retention rate"
   ]
  },
  {
   "cell_type": "code",
   "execution_count": 4,
   "metadata": {},
   "outputs": [
    {
     "name": "stdout",
     "output_type": "stream",
     "text": [
      "overall 1-day retention rate: 0.4452\n"
     ]
    }
   ],
   "source": [
    "overall_rate = df.retention_1.mean()\n",
    "print('overall 1-day retention rate:', round(overall_rate, 4))"
   ]
  },
  {
   "cell_type": "markdown",
   "metadata": {},
   "source": [
    "### 1-day retention rates for the control group and treatment group"
   ]
  },
  {
   "cell_type": "code",
   "execution_count": 5,
   "metadata": {},
   "outputs": [
    {
     "name": "stdout",
     "output_type": "stream",
     "text": [
      "control 1-day retention rate: 0.4482\n",
      "treatment 1-day retention rate: 0.4423\n",
      "observed difference: 0.0059\n"
     ]
    }
   ],
   "source": [
    "# control group corresponds to gate_30, treatment groups corresponds to gate_40\n",
    "control_rate = control.retention_1.mean()\n",
    "treatment_rate = treatment.retention_1.mean()\n",
    "print('control 1-day retention rate:', round(control_rate, 4))\n",
    "print('treatment 1-day retention rate:', round(treatment_rate, 4))\n",
    "print('observed difference:', round(control_rate - treatment_rate, 4))"
   ]
  },
  {
   "cell_type": "markdown",
   "metadata": {
    "collapsed": true
   },
   "source": [
    "<a id=\"one_day_significant\"></a>\n",
    "## Is the difference statistically significant?\n",
    "\n",
    "We can see from the calculations above that there was a slight decrease of about 0.59 percentage points when the gate was moved to level 40 versus the control group at level 30.  This may not seem like a lot, but even small changes in retention can have a large impact on the company's revenue.\n",
    "\n",
    "So is this result a random fluke, or is it unlikely to occur by chance? To answer this question, we should do a hypothesis test.  Let $p_{30}$ be the true 1-day retention rate for the control group and $p_{40}$ the true retention rate for the treatment group.  We want to test the hypotheses\n",
    "\n",
    "\\begin{align*}\n",
    "H_0 : p_{30} - p_{40} &= 0 \\\\\n",
    "H_A : p_{30} - p_{40} &> 0\n",
    "\\end{align*}\n",
    "\n",
    "To do this test, we will use [bootstrapping](https://en.wikipedia.org/wiki/Bootstrapping_(statistics).  Bootstrapping is a statistical technique that allows us to estimate the sampling distribution of a statistic.  In our case, we want to estimate the sampling distributions of the sample proportions $\\widehat{p}_{30}$ and $\\widehat{p}_{40}$.  This will allow us to estimate the amount of variation in 1-day retention rates for both the treatment and control group.\n",
    "\n",
    "### The distributions for $\\widehat{p}_{30}$ and $\\widehat{p}_{40}$\n",
    "\n",
    "In the code below, we get 10000 bootstrapped samples and then show density plots that approximate each distribution.  In the plots below, there is some evidence of a small difference in the distributions, although we actually need to test this. "
   ]
  },
  {
   "cell_type": "code",
   "execution_count": 12,
   "metadata": {},
   "outputs": [
    {
     "data": {
      "image/png": "[encoded data removed]",
      "text/plain": [
       "<matplotlib.figure.Figure at 0x1117be668>"
      ]
     },
     "metadata": {},
     "output_type": "display_data"
    }
   ],
   "source": [
    "def bootstrap(num_repetitions, column):\n",
    "    bootsample = []\n",
    "    for _ in range(num_repetitions):\n",
    "        boot_mean = df.sample(frac=1, replace=True).groupby('version')[column].mean()\n",
    "        bootsample.append(boot_mean)\n",
    "        \n",
    "    return pd.DataFrame(bootsample) \n",
    "\n",
    "bootsample_df = bootstrap(10000, 'retention_1')\n",
    "bootsample_df.plot.kde()\n",
    "plt.xlabel('1-day retention rate');"
   ]
  },
  {
   "cell_type": "markdown",
   "metadata": {},
   "source": [
    "### The distribution of the differences $\\widehat{p}_{30} - \\widehat{p}_{40}$\n",
    "\n",
    "Now we're going to essentially subtract the two plots above and get one density plot that represents the distribution of all the differences in 1-day retention rates for the control group and 1-day retention rates for the treatment group.\n",
    "\n",
    "If there is no significant difference in retention rates (ie. the null hypothesis is true), then the plot below should be centered approximately at zero."
   ]
  },
  {
   "cell_type": "code",
   "execution_count": 13,
   "metadata": {},
   "outputs": [
    {
     "name": "stdout",
     "output_type": "stream",
     "text": [
      "\n",
      "standard deviation = 0.00325\n"
     ]
    },
    {
     "data": {
      "image/png": "[encoded data removed]",
      "text/plain": [
       "<matplotlib.figure.Figure at 0x11173c6d8>"
      ]
     },
     "metadata": {},
     "output_type": "display_data"
    }
   ],
   "source": [
    "bootsample_df['diff'] = bootsample_df.gate_30 - bootsample_df.gate_40\n",
    "diff_std = bootsample_df['diff'].std()\n",
    "\n",
    "# plot a density estimation for the diff column\n",
    "print('\\nstandard deviation =', round(diff_std, 5))\n",
    "bootsample_df['diff'].plot.kde();"
   ]
  },
  {
   "cell_type": "markdown",
   "metadata": {
    "collapsed": true
   },
   "source": [
    "### What can we conclude about the 1-day retention rates?\n",
    "\n",
    "If the null hypothesis is true, then the sampling distribution should have a mean of 0 and a standard deviation of approximately 0.0033; the same standard deviation as the distribution we plotted directly above.  Recall that the observed difference in proportions of 1-day retention rates is approximately 0.0059.  \n",
    "\n",
    "What is the probability of getting a value of 0.0059 or something more extreme if there is no difference between the 1-day retention rates for the control group versus the treatment group? This probability is the [p-value](https://en.wikipedia.org/wiki/P-value), and the smaller the p-value, the stronger the evidence we have against the null hypothesis.  If the p-value is smaller than some threshold (called the significance level), then we can reject $H_0$ and conclude that there is enough evidence to support the claim that there is an actual difference in 1-day retention rates between the gate_30 group and the gate_40 group.\n",
    "\n",
    "Below is a plot of the null distribution along with a vertical line representing where the observed difference lies on the distribution."
   ]
  },
  {
   "cell_type": "code",
   "execution_count": 19,
   "metadata": {},
   "outputs": [
    {
     "data": {
      "image/png": "[encoded data removed]",
      "text/plain": [
       "<matplotlib.figure.Figure at 0x114122c50>"
      ]
     },
     "metadata": {},
     "output_type": "display_data"
    }
   ],
   "source": [
    "null_dist = np.random.normal(0, diff_std, 10000)\n",
    "bootsample_df['null_dist'] = null_dist\n",
    "bootsample_df['null_dist'].plot.kde()\n",
    "plt.axvline(x=control_rate - treatment_rate, color='blue');"
   ]
  },
  {
   "cell_type": "markdown",
   "metadata": {},
   "source": [
    "Since the alternative hypothesis is $H_A : p_{30} - p_{40} > 0$, the hypothesis test is right-tailed.  This means that we should find the p-value by looking at the proportion of values in the null distribution that are greater than the observed difference\n",
    "\n",
    "$$\n",
    "\\textrm{p-value} = \\mathrm{Prob}\\,(\\textrm{difference} > 0.0059 \\,\\,|\\,\\, H_0 \\textrm{ is true})\n",
    "$$\n",
    "\n",
    "and this is the same as the area to the right of the vertical blue line in the null distribution above.  The computation below shows that p-value < 0.01.  If we use a significance level $\\alpha = 0.01$, then we can reject $H_0$, so the data provide sufficient evidence to conclude that the 1-day retention rate for gate_30 is larger than the 1-day retention rate for gate_40.\n",
    "\n",
    "It looks like it's better to keep the first gate at level 30."
   ]
  },
  {
   "cell_type": "code",
   "execution_count": 21,
   "metadata": {},
   "outputs": [
    {
     "name": "stdout",
     "output_type": "stream",
     "text": [
      "p-value: 0.0052\n"
     ]
    }
   ],
   "source": [
    "observed_diff = control_rate - treatment_rate\n",
    "p_value = (null_dist > observed_diff).mean()\n",
    "print('p-value:', p_value)"
   ]
  },
  {
   "cell_type": "markdown",
   "metadata": {
    "collapsed": true
   },
   "source": [
    "<a id=\"compare_7rates\"></a>\n",
    "## Comparison of 7-day retention rates\n",
    "\n",
    "The analysis above shows that switching the first gate from gate_30 to gate_40 results in a decrease in the 1-day retention rate.  What about the 7-day retention rate?  The 7-day retention rate is the proportion of players who come back and play the game 7 days after installing it.\n",
    "\n",
    "Maybe after only one day, many players hadn't reached level 30 or level 40 yet.  In this case, a lot of people wouldn't have been affected by the experiment.  So let's now do the same analysis we did above, but for 7-day retention rates.  That is, we'll do another hypothesis test to see if there is a statistically significant difference between 7-day retention rate for the gate_30 group versus the gate_40 group.\n",
    "\n",
    "### The observed 7-day retention rates\n",
    "\n",
    "Again we find that the 7-day retention rate decreases when the first gate is switched from level 30 to level 40.  The observed difference is about 0.82 percentage points."
   ]
  },
  {
   "cell_type": "code",
   "execution_count": 22,
   "metadata": {},
   "outputs": [
    {
     "name": "stdout",
     "output_type": "stream",
     "text": [
      "control 7-day retention rate: 0.1902\n",
      "treatment 7-day retention rate: 0.182\n",
      "observed difference: 0.0082\n"
     ]
    }
   ],
   "source": [
    "control_rate = control.retention_7.mean()\n",
    "treatment_rate = treatment.retention_7.mean()\n",
    "print('control 7-day retention rate:', round(control_rate, 4))\n",
    "print('treatment 7-day retention rate:', round(treatment_rate, 4))\n",
    "print('observed difference:', round(control_rate - treatment_rate, 4))"
   ]
  },
  {
   "cell_type": "markdown",
   "metadata": {},
   "source": [
    "### Bootstrapping again\n",
    "\n",
    "We want to test whether this decrease in the 7-day retention rate is statistically significant, so we will use bootstrap analysis again.  We will simulate the sampling distribution of the differences in 7-day retention rates between the gate_30 group and gate_40 group and then plot the observed difference and calculate the p-value.  \n",
    "\n",
    "This time we are testing the null hypothesis that there is no difference in the 7-day retention rates.  Again we have p-value < 0.01, so the data provide sufficient evidence to conclude that the 7-day retention rate is higher when the gate is kept at level 30."
   ]
  },
  {
   "cell_type": "code",
   "execution_count": 23,
   "metadata": {},
   "outputs": [
    {
     "name": "stdout",
     "output_type": "stream",
     "text": [
      "\n",
      "p-value: 0.0012\n"
     ]
    },
    {
     "data": {
      "image/png": "[encoded data removed]",
      "text/plain": [
       "<matplotlib.figure.Figure at 0x10cc107f0>"
      ]
     },
     "metadata": {},
     "output_type": "display_data"
    }
   ],
   "source": [
    "# get 10000 bootstrapped samples\n",
    "bootsample_df = bootstrap(10000, 'retention_7')\n",
    "\n",
    "# simulate the distribution of differences under the assumption of no difference in 7-day retention rates\n",
    "bootsample_df['diff'] = bootsample_df.gate_30 - bootsample_df.gate_40\n",
    "diff_std = bootsample_df['diff'].std()\n",
    "null_dist = np.random.normal(0, diff_std, 10000)\n",
    "bootsample_df['null_dist'] = null_dist\n",
    "\n",
    "# plot the expected distribution under the assumption of no difference and also plot the observed difference.\n",
    "# The p-value is the area under the distribution to the right of the blue line\n",
    "observed_diff = control_rate - treatment_rate\n",
    "p_value = (null_dist > observed_diff).mean()\n",
    "print('\\np-value:', p_value)\n",
    "bootsample_df['null_dist'].plot.kde()\n",
    "plt.axvline(x=observed_diff, color='blue');"
   ]
  },
  {
   "cell_type": "markdown",
   "metadata": {
    "collapsed": true
   },
   "source": [
    "<a id=\"conc\"></a>\n",
    "## Conclusion\n",
    "\n",
    "The data show that both 1-day and 7-day retention rates are higher when the first gate is kept at level 30 versus being moved to level 40.  Therefore, any competent analyst working for this video game company should recommend that the gate **not** be moved from level 30 to 40."
   ]
  },
  {
   "cell_type": "code",
   "execution_count": null,
   "metadata": {
    "collapsed": true
   },
   "outputs": [],
   "source": []
  },
  {
   "cell_type": "code",
   "execution_count": null,
   "metadata": {
    "collapsed": true
   },
   "outputs": [],
   "source": []
  }
 ],
 "metadata": {
  "kernelspec": {
   "display_name": "Python 3",
   "language": "python",
   "name": "python3"
  },
  "language_info": {
   "codemirror_mode": {
    "name": "ipython",
    "version": 3
   },
   "file_extension": ".py",
   "mimetype": "text/x-python",
   "name": "python",
   "nbconvert_exporter": "python",
   "pygments_lexer": "ipython3",
   "version": "3.6.1"
  }
 },
 "nbformat": 4,
 "nbformat_minor": 2
}
